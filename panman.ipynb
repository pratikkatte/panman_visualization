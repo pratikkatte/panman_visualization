{
 "cells": [
  {
   "cell_type": "markdown",
   "metadata": {},
   "source": [
    "# Mutation Parsing"
   ]
  },
  {
   "cell_type": "code",
   "execution_count": 1,
   "metadata": {},
   "outputs": [],
   "source": [
    "with open(\"./panman/build/panman/small.mutations\") as file:\n",
    "    data = file.read()"
   ]
  },
  {
   "cell_type": "code",
   "execution_count": 2,
   "metadata": {},
   "outputs": [],
   "source": [
    "import pandas as pd\n",
    "\n",
    "file_path = \"./panman/build/panman/small.mutations\"\n",
    "mut_df = pd.read_csv(file_path, sep='\\t')\n",
    "\n",
    "mut_df.columns = ['type', 'node_name', 'mutations']\n"
   ]
  },
  {
   "cell_type": "code",
   "execution_count": null,
   "metadata": {},
   "outputs": [],
   "source": [
    "s = mut_df[(mut_df['node_name'] == 'node_96') & (mut_df['type'] == 'Substitutions:')]\n"
   ]
  },
  {
   "cell_type": "code",
   "execution_count": null,
   "metadata": {},
   "outputs": [],
   "source": [
    "s['mutations'].to_list()[0].split(\">\")[1:][0].strip()"
   ]
  },
  {
   "cell_type": "markdown",
   "metadata": {},
   "source": [
    "JSONL "
   ]
  },
  {
   "cell_type": "markdown",
   "metadata": {},
   "source": [
    "# Panman to Taxonium Visualization"
   ]
  },
  {
   "cell_type": "code",
   "execution_count": 3,
   "metadata": {},
   "outputs": [],
   "source": [
    "import panman_pb2\n",
    "import lzma\n",
    "from google.protobuf.json_format import MessageToJson\n",
    "import treeswift\n",
    "from dataclasses import dataclass\n",
    "import datetime\n",
    "import numpy as np"
   ]
  },
  {
   "cell_type": "code",
   "execution_count": 4,
   "metadata": {},
   "outputs": [],
   "source": [
    "config = {}\n",
    "file_path = \"./panman/build/panman/small.panman\""
   ]
  },
  {
   "cell_type": "code",
   "execution_count": 5,
   "metadata": {},
   "outputs": [],
   "source": [
    "# Parsing the panman pb file. \n",
    "xz_file_data = lzma.open(file_path, 'rb').read()\n",
    "\n",
    "# Parse the serialized message\n",
    "tree_group = panman_pb2.treeGroup()\n",
    "tree_group.ParseFromString(xz_file_data)\n",
    "panmats = []\n",
    "for tree in tree_group.trees:\n",
    "    panmats.append(tree)"
   ]
  },
  {
   "cell_type": "code",
   "execution_count": 6,
   "metadata": {},
   "outputs": [],
   "source": [
    "# Tree data\n",
    "newick_data = panmats[0].newick\n",
    "nodes = panmats[0].nodes\n",
    "\n",
    "tree = treeswift.read_tree(newick_data, schema=\"newick\")"
   ]
  },
  {
   "cell_type": "code",
   "execution_count": 8,
   "metadata": {},
   "outputs": [],
   "source": [
    "# @dataclass(eq=True, frozen=True)\n",
    "# class NucMutation:  #hashable\n",
    "#     nucPosition: int\n",
    "#     mutInfo: int\n",
    "#     type: str = \"nt\"\n",
    "\n",
    "@dataclass(eq=True, frozen=True)\n",
    "class NucMutation:  #hashable\n",
    "    one_indexed_position: int\n",
    "    par_nuc: str\n",
    "    mut_nuc: str\n",
    "    chromosome: str = \"chrom\"\n",
    "    type: str = \"nt\"\n",
    "\n",
    "\n",
    "def make_aa_object(i, aa_mutation):\n",
    "    # Tuple format is gene, position, prev, next\n",
    "\n",
    "    return {\n",
    "        \"gene\": aa_mutation.gene,\n",
    "        \"previous_residue\": aa_mutation.initial_aa,\n",
    "        \"residue_pos\": aa_mutation.one_indexed_codon,\n",
    "        \"new_residue\": aa_mutation.final_aa,\n",
    "        \"mutation_id\": i,\n",
    "        \"nuc_for_codon\": aa_mutation.nuc_for_codon,\n",
    "        \"type\": \"aa\"\n",
    "    }\n",
    "\n",
    "\n",
    "def make_nuc_object(i, nuc_mut):\n",
    "    return {\n",
    "        \"gene\": \"nt\",\n",
    "        \"previous_residue\": nuc_mut.par_nuc,\n",
    "        \"residue_pos\": nuc_mut.one_indexed_position,\n",
    "        \"new_residue\": nuc_mut.mut_nuc,\n",
    "        \"mutation_id\": i,\n",
    "        \"type\": \"nt\"\n",
    "    }  "
   ]
  },
  {
   "cell_type": "code",
   "execution_count": 9,
   "metadata": {},
   "outputs": [],
   "source": [
    "def preorder_traversal(node):\n",
    "    yield node\n",
    "    for clade in node.children:\n",
    "        yield from preorder_traversal(clade)\n",
    "\n",
    "# NUC_ENUM = \"ACGT\"\n",
    "\n",
    "def convert_nuc_mutation(substitution):\n",
    "        par_nuc = substitution[0]\n",
    "        mut_nuc = substitution[-1]\n",
    "        position = substitution[1:-1]\n",
    "        \n",
    "        new_mut = NucMutation(one_indexed_position=position,\n",
    "                              par_nuc=par_nuc,\n",
    "                              mut_nuc=mut_nuc)\n",
    "        return new_mut\n"
   ]
  },
  {
   "cell_type": "code",
   "execution_count": 36,
   "metadata": {},
   "outputs": [],
   "source": [
    "def preorder_traversal(node):\n",
    "    yield node\n",
    "    for clade in node.children:\n",
    "        yield from preorder_traversal(clade)\n",
    "\n",
    "def annotate_mutations():\n",
    "    for i, node in enumerate(preorder_traversal(tree.root)):\n",
    "        s = mut_df[(mut_df['node_name'] == node.label) & (mut_df['type'] == 'Substitutions:')]\n",
    "        if s['mutations'].any():\n",
    "            substitute_mutations = s['mutations'].to_list()[0].split(\">\")[1:]\n",
    "\n",
    "            node.nuc_mutations = [\n",
    "                convert_nuc_mutation(sub_mut.strip()) for sub_mut in substitute_mutations\n",
    "                ]\n",
    "                # for x in self.data.node_mutations[i].mutation\n",
    "\n",
    "                # NucMutation(mutations.nucPosition, mutations.mutInfo)\n",
    "                #  for node_mutations in nodes[i].mutations \n",
    "                #  for mutations in node_mutations.nucMutation\n",
    "                # ]\n",
    "        else:\n",
    "            print(node)\n",
    "            node.nuc_mutations = []\n",
    "\n",
    "def assign_num_tips():\n",
    "    for node in tree.traverse_postorder():\n",
    "        for node in tree.traverse_postorder():\n",
    "            if node.is_leaf():\n",
    "                node.num_tips = 1\n",
    "            else:\n",
    "                node.num_tips = sum(child.num_tips for child in node.children)\n",
    "\n",
    "def set_branch_lengths():\n",
    "    for node in list(preorder_traversal(tree.root)):\n",
    "        node.edge_length = len(node.nuc_mutations)"
   ]
  },
  {
   "cell_type": "code",
   "execution_count": 47,
   "metadata": {},
   "outputs": [
    {
     "data": {
      "text/html": [
       "<div>\n",
       "<style scoped>\n",
       "    .dataframe tbody tr th:only-of-type {\n",
       "        vertical-align: middle;\n",
       "    }\n",
       "\n",
       "    .dataframe tbody tr th {\n",
       "        vertical-align: top;\n",
       "    }\n",
       "\n",
       "    .dataframe thead th {\n",
       "        text-align: right;\n",
       "    }\n",
       "</style>\n",
       "<table border=\"1\" class=\"dataframe\">\n",
       "  <thead>\n",
       "    <tr style=\"text-align: right;\">\n",
       "      <th></th>\n",
       "      <th>type</th>\n",
       "      <th>node_name</th>\n",
       "      <th>mutations</th>\n",
       "    </tr>\n",
       "  </thead>\n",
       "  <tbody>\n",
       "    <tr>\n",
       "      <th>164</th>\n",
       "      <td>Substitutions:</td>\n",
       "      <td>node_11</td>\n",
       "      <td>NaN</td>\n",
       "    </tr>\n",
       "    <tr>\n",
       "      <th>165</th>\n",
       "      <td>Insertions:</td>\n",
       "      <td>node_11</td>\n",
       "      <td>NaN</td>\n",
       "    </tr>\n",
       "    <tr>\n",
       "      <th>166</th>\n",
       "      <td>Deletions:</td>\n",
       "      <td>node_11</td>\n",
       "      <td>&gt; 1- &gt; 1- &gt; 1- &gt; 1- &gt; 1- &gt; 1- &gt; 1- &gt; 1- &gt; 1- ...</td>\n",
       "    </tr>\n",
       "  </tbody>\n",
       "</table>\n",
       "</div>"
      ],
      "text/plain": [
       "               type node_name  \\\n",
       "164  Substitutions:   node_11   \n",
       "165     Insertions:   node_11   \n",
       "166      Deletions:   node_11   \n",
       "\n",
       "                                             mutations  \n",
       "164                                                NaN  \n",
       "165                                                NaN  \n",
       "166   > 1- > 1- > 1- > 1- > 1- > 1- > 1- > 1- > 1- ...  "
      ]
     },
     "execution_count": 47,
     "metadata": {},
     "output_type": "execute_result"
    }
   ],
   "source": [
    "mut_df[(mut_df['node_name'] == \"node_11\")]"
   ]
  },
  {
   "cell_type": "code",
   "execution_count": 37,
   "metadata": {},
   "outputs": [
    {
     "name": "stdout",
     "output_type": "stream",
     "text": [
      "node_1\n",
      "node_2\n",
      "node_3\n",
      "node_4\n",
      "node_8\n",
      "node_9\n",
      "node_24\n",
      "node_22\n",
      "node_10\n",
      "node_26\n",
      "node_5\n",
      "node_7\n",
      "node_19\n",
      "node_17\n",
      "node_6\n",
      "node_15\n",
      "node_14\n",
      "node_11\n",
      "node_15\n",
      "node_17\n",
      "node_45\n",
      "node_16\n",
      "node_41\n",
      "node_12\n",
      "node_14\n",
      "node_36\n",
      "node_13\n",
      "node_34\n",
      "node_18\n",
      "node_26\n",
      "node_30\n",
      "node_85\n",
      "node_83\n",
      "node_31\n",
      "node_79\n",
      "node_27\n",
      "node_29\n",
      "node_74\n",
      "node_19\n",
      "node_23\n",
      "node_64\n",
      "node_24\n",
      "node_62\n",
      "node_60\n",
      "node_20\n",
      "node_22\n",
      "node_57\n",
      "node_55\n",
      "node_21\n",
      "node_52\n",
      "node_33\n",
      "node_34\n",
      "node_92\n",
      "node_36\n",
      "node_94\n",
      "node_37\n",
      "node_99\n"
     ]
    }
   ],
   "source": [
    "annotate_mutations()\n",
    "assign_num_tips()\n",
    "set_branch_lengths()"
   ]
  },
  {
   "cell_type": "markdown",
   "metadata": {},
   "source": []
  },
  {
   "cell_type": "code",
   "execution_count": 15,
   "metadata": {},
   "outputs": [],
   "source": [
    "def set_x_coords(root, chronumental_enabled):\n",
    "    \"\"\" Set x coordinates for the tree\"\"\"\n",
    "    root.x_dist = 0\n",
    "    root.x_time = 0\n",
    "    for node in root.traverse_preorder():\n",
    "        if node.parent:\n",
    "            node.x_dist = node.parent.x_dist + node.edge_length\n",
    "            if chronumental_enabled:\n",
    "                node.x_time = node.parent.x_time + node.time_length\n",
    "\n",
    "def set_terminal_y_coords(root):\n",
    "    for i, node in enumerate(root.traverse_leaves()):\n",
    "        node.y = i\n",
    "        node.y = i\n",
    "\n",
    "def set_internal_y_coords(root):\n",
    "    # Each node should be halfway between the min and max y of its children. \n",
    "    for node in root.traverse_postorder(leaves=False, internal=True):\n",
    "        child_ys = [child.y for child in node.children]\n",
    "        node.y = (min(child_ys) + max(child_ys))/2\n",
    "\n",
    "def sort_on_y(tree):\n",
    "    \"\"\"\n",
    "    \"\"\"\n",
    "    def return_y(node):\n",
    "        return node.y\n",
    "    \n",
    "    nodes_sorted_by_y = sorted(tree.root.traverse_preorder(),\n",
    "                               key=lambda x: return_y(x))\n",
    "    return nodes_sorted_by_y\n",
    "\n",
    "\n",
    "def get_node_object(node, node_to_index, metadata, input_to_index, columns, chronumental_enabled):\n",
    "    object = {}\n",
    "    object['name'] = node.label if node.label else \"\"\n",
    "    \n",
    "    # round to 5 dp\n",
    "    object[\"x_dist\"] = round(node.x_dist, 5)\n",
    "    if chronumental_enabled:\n",
    "        object[\"x_time\"] = round(node.x_time, 5)\n",
    "    object[\"y\"] = node.y\n",
    "    object[\"mutations\"] = []\n",
    "    if hasattr(node, 'aa_muts'):\n",
    "        object['mutations'] += [\n",
    "            input_to_index[my_input] for my_input in node.aa_muts]\n",
    "\n",
    "    if hasattr(node, 'nuc_mutations'):\n",
    "        object['mutations'] += [\n",
    "            input_to_index[my_input] for my_input in node.nuc_mutations\n",
    "        ]\n",
    "    if node.is_leaf():\n",
    "        object['is_tip'] = True\n",
    "    else:\n",
    "        object['is_tip'] = False\n",
    "    \n",
    "    try:\n",
    "        my_dict = metadata[node.label]\n",
    "        for key in my_dict:\n",
    "            value = my_dict[key]\n",
    "\n",
    "            # if value is pd.NaN then set to empty string\n",
    "            if pd.isna(value):\n",
    "                value = \"\"\n",
    "            object['meta_'+key] = value\n",
    "    except KeyError:\n",
    "        for key in columns:\n",
    "            object[\"meta_\"+key] = \"\"\n",
    "    \n",
    "    object['parent_id'] = node_to_index[node.parent] if node.parent else node_to_index[node]\n",
    "    object['node_id'] = node_to_index[node] # We don't strictly need this, but it doesn't add much to the space\n",
    "\n",
    "    object['num_tips'] = node.num_tips\n",
    "\n",
    "    if hasattr(node, 'clades'):\n",
    "        object['clades'] = node.clades\n",
    "    \n",
    "    return object\n",
    "    \n",
    "def get_all_aa_muts(root):\n",
    "    all_aa_muts = set()\n",
    "    for node in list(root.traverse_preorder()):\n",
    "        if hasattr(node, 'aa_muts'):\n",
    "            all_aa_muts.update(node.aa_muts)\n",
    "    return list(all_aa_muts)\n",
    "\n",
    "def get_all_nuc_muts(root):\n",
    "    all_nuc_muts = set()\n",
    "    for node in list(root.traverse_preorder()):\n",
    "        if node.nuc_mutations:\n",
    "            # mut_df[mut_df['node_name']== node]\n",
    "            # all_nuc_muts.add(tuple(node.nuc_mutations))\n",
    "            all_nuc_muts.update(node.nuc_mutations)\n",
    "    return list(all_nuc_muts)\n"
   ]
  },
  {
   "cell_type": "code",
   "execution_count": 16,
   "metadata": {},
   "outputs": [
    {
     "data": {
      "text/plain": [
       "38"
      ]
     },
     "execution_count": 16,
     "metadata": {},
     "output_type": "execute_result"
    }
   ],
   "source": [
    "tree.ladderize(ascending=False)\n",
    "total_tips = tree.root.num_tips\n",
    "total_tips"
   ]
  },
  {
   "cell_type": "code",
   "execution_count": 17,
   "metadata": {},
   "outputs": [],
   "source": [
    "set_x_coords(tree.root, False)"
   ]
  },
  {
   "cell_type": "code",
   "execution_count": 18,
   "metadata": {},
   "outputs": [],
   "source": [
    "set_terminal_y_coords(tree.root)\n",
    "set_internal_y_coords(tree.root)"
   ]
  },
  {
   "cell_type": "code",
   "execution_count": 19,
   "metadata": {},
   "outputs": [],
   "source": [
    "nodes_sorted_by_y = sort_on_y(tree)"
   ]
  },
  {
   "cell_type": "code",
   "execution_count": 20,
   "metadata": {},
   "outputs": [],
   "source": [
    "all_aa_muts_objects = get_all_aa_muts(tree.root)"
   ]
  },
  {
   "cell_type": "code",
   "execution_count": 21,
   "metadata": {},
   "outputs": [],
   "source": [
    "all_nuc_muts = get_all_nuc_muts(tree.root)"
   ]
  },
  {
   "cell_type": "code",
   "execution_count": 22,
   "metadata": {},
   "outputs": [
    {
     "data": {
      "text/plain": [
       "[NucMutation(one_indexed_position='1', par_nuc='N', mut_nuc='T', chromosome='chrom', type='nt'),\n",
       " NucMutation(one_indexed_position='27511', par_nuc='T', mut_nuc='C', chromosome='chrom', type='nt'),\n",
       " NucMutation(one_indexed_position='1', par_nuc='A', mut_nuc='T', chromosome='chrom', type='nt'),\n",
       " NucMutation(one_indexed_position='1', par_nuc='C', mut_nuc='T', chromosome='chrom', type='nt'),\n",
       " NucMutation(one_indexed_position='22351', par_nuc='A', mut_nuc='C', chromosome='chrom', type='nt'),\n",
       " NucMutation(one_indexed_position='1', par_nuc='T', mut_nuc='C', chromosome='chrom', type='nt'),\n",
       " NucMutation(one_indexed_position='20596', par_nuc='T', mut_nuc='C', chromosome='chrom', type='nt'),\n",
       " NucMutation(one_indexed_position='1', par_nuc='G', mut_nuc='T', chromosome='chrom', type='nt'),\n",
       " NucMutation(one_indexed_position='1', par_nuc='A', mut_nuc='C', chromosome='chrom', type='nt'),\n",
       " NucMutation(one_indexed_position='9423', par_nuc='T', mut_nuc='C', chromosome='chrom', type='nt'),\n",
       " NucMutation(one_indexed_position='8548', par_nuc='C', mut_nuc='T', chromosome='chrom', type='nt'),\n",
       " NucMutation(one_indexed_position='25022', par_nuc='G', mut_nuc='A', chromosome='chrom', type='nt'),\n",
       " NucMutation(one_indexed_position='1', par_nuc='N', mut_nuc='A', chromosome='chrom', type='nt'),\n",
       " NucMutation(one_indexed_position='29141', par_nuc='C', mut_nuc='N', chromosome='chrom', type='nt'),\n",
       " NucMutation(one_indexed_position='1', par_nuc='N', mut_nuc='C', chromosome='chrom', type='nt'),\n",
       " NucMutation(one_indexed_position='1560', par_nuc='C', mut_nuc='T', chromosome='chrom', type='nt'),\n",
       " NucMutation(one_indexed_position='4084', par_nuc='G', mut_nuc='A', chromosome='chrom', type='nt'),\n",
       " NucMutation(one_indexed_position='3434', par_nuc='T', mut_nuc='K', chromosome='chrom', type='nt'),\n",
       " NucMutation(one_indexed_position='1', par_nuc='T', mut_nuc='A', chromosome='chrom', type='nt'),\n",
       " NucMutation(one_indexed_position='1', par_nuc='N', mut_nuc='G', chromosome='chrom', type='nt'),\n",
       " NucMutation(one_indexed_position='1', par_nuc='A', mut_nuc='G', chromosome='chrom', type='nt'),\n",
       " NucMutation(one_indexed_position='24955', par_nuc='C', mut_nuc='T', chromosome='chrom', type='nt'),\n",
       " NucMutation(one_indexed_position='1', par_nuc='G', mut_nuc='A', chromosome='chrom', type='nt'),\n",
       " NucMutation(one_indexed_position='1', par_nuc='G', mut_nuc='C', chromosome='chrom', type='nt'),\n",
       " NucMutation(one_indexed_position='C29264', par_nuc='g', mut_nuc='T', chromosome='chrom', type='nt'),\n",
       " NucMutation(one_indexed_position='1', par_nuc='C', mut_nuc='G', chromosome='chrom', type='nt'),\n",
       " NucMutation(one_indexed_position='8296', par_nuc='C', mut_nuc='T', chromosome='chrom', type='nt'),\n",
       " NucMutation(one_indexed_position='1', par_nuc='T', mut_nuc='G', chromosome='chrom', type='nt'),\n",
       " NucMutation(one_indexed_position='27511', par_nuc='C', mut_nuc='T', chromosome='chrom', type='nt'),\n",
       " NucMutation(one_indexed_position='227', par_nuc='G', mut_nuc='T', chromosome='chrom', type='nt'),\n",
       " NucMutation(one_indexed_position='27484', par_nuc='C', mut_nuc='T', chromosome='chrom', type='nt'),\n",
       " NucMutation(one_indexed_position='5648', par_nuc='C', mut_nuc='T', chromosome='chrom', type='nt'),\n",
       " NucMutation(one_indexed_position='25349', par_nuc='C', mut_nuc='T', chromosome='chrom', type='nt')]"
      ]
     },
     "execution_count": 22,
     "metadata": {},
     "output_type": "execute_result"
    }
   ],
   "source": [
    "all_nuc_muts"
   ]
  },
  {
   "cell_type": "code",
   "execution_count": 23,
   "metadata": {},
   "outputs": [],
   "source": [
    "all_mut_inputs = all_aa_muts_objects + all_nuc_muts\n",
    "all_mut_objects = [\n",
    "    make_aa_object(i, input_thing)\n",
    "        if input_thing.type == \"aa\" else make_nuc_object(i, input_thing)\n",
    "        for i, input_thing in enumerate(all_mut_inputs)\n",
    "    ]"
   ]
  },
  {
   "cell_type": "code",
   "execution_count": 30,
   "metadata": {},
   "outputs": [
    {
     "name": "stdout",
     "output_type": "stream",
     "text": [
      "{'gene': 'nt', 'previous_residue': 'N', 'residue_pos': '1', 'new_residue': 'T', 'mutation_id': 0, 'type': 'nt'}\n",
      "{'gene': 'nt', 'previous_residue': 'T', 'residue_pos': '27511', 'new_residue': 'C', 'mutation_id': 1, 'type': 'nt'}\n",
      "{'gene': 'nt', 'previous_residue': 'A', 'residue_pos': '1', 'new_residue': 'T', 'mutation_id': 2, 'type': 'nt'}\n",
      "{'gene': 'nt', 'previous_residue': 'C', 'residue_pos': '1', 'new_residue': 'T', 'mutation_id': 3, 'type': 'nt'}\n",
      "{'gene': 'nt', 'previous_residue': 'A', 'residue_pos': '22351', 'new_residue': 'C', 'mutation_id': 4, 'type': 'nt'}\n",
      "{'gene': 'nt', 'previous_residue': 'T', 'residue_pos': '1', 'new_residue': 'C', 'mutation_id': 5, 'type': 'nt'}\n",
      "{'gene': 'nt', 'previous_residue': 'T', 'residue_pos': '20596', 'new_residue': 'C', 'mutation_id': 6, 'type': 'nt'}\n",
      "{'gene': 'nt', 'previous_residue': 'G', 'residue_pos': '1', 'new_residue': 'T', 'mutation_id': 7, 'type': 'nt'}\n",
      "{'gene': 'nt', 'previous_residue': 'A', 'residue_pos': '1', 'new_residue': 'C', 'mutation_id': 8, 'type': 'nt'}\n",
      "{'gene': 'nt', 'previous_residue': 'T', 'residue_pos': '9423', 'new_residue': 'C', 'mutation_id': 9, 'type': 'nt'}\n",
      "{'gene': 'nt', 'previous_residue': 'C', 'residue_pos': '8548', 'new_residue': 'T', 'mutation_id': 10, 'type': 'nt'}\n",
      "{'gene': 'nt', 'previous_residue': 'G', 'residue_pos': '25022', 'new_residue': 'A', 'mutation_id': 11, 'type': 'nt'}\n",
      "{'gene': 'nt', 'previous_residue': 'N', 'residue_pos': '1', 'new_residue': 'A', 'mutation_id': 12, 'type': 'nt'}\n",
      "{'gene': 'nt', 'previous_residue': 'C', 'residue_pos': '29141', 'new_residue': 'N', 'mutation_id': 13, 'type': 'nt'}\n",
      "{'gene': 'nt', 'previous_residue': 'N', 'residue_pos': '1', 'new_residue': 'C', 'mutation_id': 14, 'type': 'nt'}\n",
      "{'gene': 'nt', 'previous_residue': 'C', 'residue_pos': '1560', 'new_residue': 'T', 'mutation_id': 15, 'type': 'nt'}\n",
      "{'gene': 'nt', 'previous_residue': 'G', 'residue_pos': '4084', 'new_residue': 'A', 'mutation_id': 16, 'type': 'nt'}\n",
      "{'gene': 'nt', 'previous_residue': 'T', 'residue_pos': '3434', 'new_residue': 'K', 'mutation_id': 17, 'type': 'nt'}\n",
      "{'gene': 'nt', 'previous_residue': 'T', 'residue_pos': '1', 'new_residue': 'A', 'mutation_id': 18, 'type': 'nt'}\n",
      "{'gene': 'nt', 'previous_residue': 'N', 'residue_pos': '1', 'new_residue': 'G', 'mutation_id': 19, 'type': 'nt'}\n",
      "{'gene': 'nt', 'previous_residue': 'A', 'residue_pos': '1', 'new_residue': 'G', 'mutation_id': 20, 'type': 'nt'}\n",
      "{'gene': 'nt', 'previous_residue': 'C', 'residue_pos': '24955', 'new_residue': 'T', 'mutation_id': 21, 'type': 'nt'}\n",
      "{'gene': 'nt', 'previous_residue': 'G', 'residue_pos': '1', 'new_residue': 'A', 'mutation_id': 22, 'type': 'nt'}\n",
      "{'gene': 'nt', 'previous_residue': 'G', 'residue_pos': '1', 'new_residue': 'C', 'mutation_id': 23, 'type': 'nt'}\n",
      "{'gene': 'nt', 'previous_residue': 'g', 'residue_pos': 'C29264', 'new_residue': 'T', 'mutation_id': 24, 'type': 'nt'}\n",
      "{'gene': 'nt', 'previous_residue': 'C', 'residue_pos': '1', 'new_residue': 'G', 'mutation_id': 25, 'type': 'nt'}\n",
      "{'gene': 'nt', 'previous_residue': 'C', 'residue_pos': '8296', 'new_residue': 'T', 'mutation_id': 26, 'type': 'nt'}\n",
      "{'gene': 'nt', 'previous_residue': 'T', 'residue_pos': '1', 'new_residue': 'G', 'mutation_id': 27, 'type': 'nt'}\n",
      "{'gene': 'nt', 'previous_residue': 'C', 'residue_pos': '27511', 'new_residue': 'T', 'mutation_id': 28, 'type': 'nt'}\n",
      "{'gene': 'nt', 'previous_residue': 'G', 'residue_pos': '227', 'new_residue': 'T', 'mutation_id': 29, 'type': 'nt'}\n",
      "{'gene': 'nt', 'previous_residue': 'C', 'residue_pos': '27484', 'new_residue': 'T', 'mutation_id': 30, 'type': 'nt'}\n",
      "{'gene': 'nt', 'previous_residue': 'C', 'residue_pos': '5648', 'new_residue': 'T', 'mutation_id': 31, 'type': 'nt'}\n",
      "{'gene': 'nt', 'previous_residue': 'C', 'residue_pos': '25349', 'new_residue': 'T', 'mutation_id': 32, 'type': 'nt'}\n"
     ]
    }
   ],
   "source": [
    "for i in all_mut_objects:\n",
    "    print(i)"
   ]
  },
  {
   "cell_type": "code",
   "execution_count": 24,
   "metadata": {},
   "outputs": [],
   "source": [
    "input_to_index = {\n",
    "        input_thing: i\n",
    "        for i, input_thing in enumerate(all_mut_inputs)\n",
    "    }\n",
    "config['num_tips'] = total_tips\n"
   ]
  },
  {
   "cell_type": "code",
   "execution_count": 25,
   "metadata": {},
   "outputs": [],
   "source": [
    "yyyymmdd = datetime.datetime.now().strftime(\"%Y-%m-%d\")\n",
    "config['date_created'] = yyyymmdd"
   ]
  },
  {
   "cell_type": "code",
   "execution_count": 26,
   "metadata": {},
   "outputs": [],
   "source": [
    "first_json = {\n",
    "        \"version\": 'dev',\n",
    "        \"mutations\": all_mut_objects,\n",
    "        \"total_nodes\": len(nodes_sorted_by_y),\n",
    "        \"config\": config\n",
    "    }"
   ]
  },
  {
   "cell_type": "code",
   "execution_count": 27,
   "metadata": {},
   "outputs": [],
   "source": [
    "node_to_index = {node:i for i, node in enumerate(nodes_sorted_by_y)}"
   ]
  },
  {
   "cell_type": "code",
   "execution_count": 28,
   "metadata": {},
   "outputs": [
    {
     "name": "stdout",
     "output_type": "stream",
     "text": [
      "Done\n"
     ]
    }
   ],
   "source": [
    "import orjson\n",
    "\n",
    "import gzip \n",
    "\n",
    "output_file = \"panman_taxonium_with_subs.jsonl.gz\"\n",
    "if \"gz\" in output_file:\n",
    "    output_file = gzip.open(output_file, \"wb\")\n",
    "else:\n",
    "    output_file = open(output_file, 'wb')\n",
    "\n",
    "output_file.write(orjson.dumps(first_json)+ b\"\\n\") \n",
    "\n",
    "remove_after_pipe=False\n",
    "\n",
    "for node in nodes_sorted_by_y:\n",
    "    node_object = get_node_object(\n",
    "        node, \n",
    "        node_to_index,\n",
    "        {}, input_to_index,\n",
    "        [], \n",
    "        chronumental_enabled=False)\n",
    "    \n",
    "    if remove_after_pipe and 'name' in node_object and node_object['name']:\n",
    "        node_object['name'] = node_object['name'].split(\"|\")[0]\n",
    "    output_file.write(orjson.dumps(node_object) + b\"\\n\")\n",
    "output_file.close()\n",
    "\n",
    "print(\"Done\")\n",
    "\n"
   ]
  },
  {
   "cell_type": "markdown",
   "metadata": {},
   "source": [
    "# Read Panman-Taxonium"
   ]
  },
  {
   "cell_type": "code",
   "execution_count": null,
   "metadata": {},
   "outputs": [],
   "source": [
    "import json \n",
    "\n",
    "data = []\n",
    "with gzip.open(\"panman_taxonium.jsonl.gz\", 'rt', encoding='utf-8') as file:\n",
    "    for line in file:\n",
    "        json_obj = json.loads(line)\n",
    "        data.append(json_obj)\n"
   ]
  },
  {
   "cell_type": "code",
   "execution_count": null,
   "metadata": {},
   "outputs": [],
   "source": [
    "data[0]"
   ]
  },
  {
   "cell_type": "code",
   "execution_count": null,
   "metadata": {},
   "outputs": [],
   "source": []
  }
 ],
 "metadata": {
  "kernelspec": {
   "display_name": "wastewater",
   "language": "python",
   "name": "python3"
  },
  "language_info": {
   "codemirror_mode": {
    "name": "ipython",
    "version": 3
   },
   "file_extension": ".py",
   "mimetype": "text/x-python",
   "name": "python",
   "nbconvert_exporter": "python",
   "pygments_lexer": "ipython3",
   "version": "3.11.8"
  },
  "orig_nbformat": 4
 },
 "nbformat": 4,
 "nbformat_minor": 2
}
